{
  "nbformat": 4,
  "nbformat_minor": 0,
  "metadata": {
    "colab": {
      "provenance": []
    },
    "kernelspec": {
      "name": "python3",
      "display_name": "Python 3"
    },
    "language_info": {
      "name": "python"
    }
  },
  "cells": [
    {
      "cell_type": "code",
      "execution_count": 1,
      "metadata": {
        "id": "JJT5Ki7GqRNl"
      },
      "outputs": [],
      "source": [
        "story = \"\"\"The wind howled like a banshee, whipping sand against Elara's weathered face. Squinting through the swirling dust, she clutched the tarnished compass, its needle spinning uselessly. Lost in the heart of the Whispering Dunes, Elara, a seasoned treasure hunter, felt a prickle of unease crawl up her spine. Legends spoke of a hidden oasis within the dunes, guarded by a sandstorm djinn. Could this storm be its wrath?\n",
        "\n",
        "Elara had dedicated her life to unearthing forgotten relics. A chipped map, discovered in a dusty antique shop, promised untold riches hidden in the oasis: the Heart of Helios, a legendary gem rumored to grant wishes. The allure of such power was irresistible.\n",
        "\n",
        "Suddenly, a colossal figure materialized from the sandstorm. A swirling vortex of dust coalesced into a being of shifting sands, its eyes glowing like embers. It spoke in a voice that echoed like a thousand whispers, \"Foolish mortal, the desert claims all who seek its secrets.\"\n",
        "\n",
        "Undeterred, Elara raised her voice, the wind whipping her words around. \"I come in peace, djinn. I only seek the Heart of Helios.\"\n",
        "\n",
        "A deep rumble shook the dunes. \"The Heart is not meant for human hands. It corrupts the soul.\"\n",
        "\n",
        "Elara countered, \"I possess the strength to resist its allure. The power will be used for good.\"\n",
        "\n",
        "The djinn studied her for an agonizing moment. Then, with a crackle like thunder, the storm subsided. The djinn pointed a sandy finger towards a lone, wind-battered palm tree in the distance. \"Follow the whispering palm. It will guide you.\"\n",
        "\n",
        "Elara approached the palm, its leaves rustling in a non-existent breeze. As she drew closer, the whispers started – voices filled with temptation and ambition, urging her to claim the Heart for her own desires. She recognized the voices; echoes of her own past regrets and yearnings.\n",
        "\n",
        "The whispers intensified, morphing into a vision of wealth and power. But Elara saw through the illusion. She remembered the countless lives she'd seen warped by greed, the good intentions corrupted. With a resolute shake of her head, she silenced the whispers.\n",
        "\n",
        "The palm leaves rustled once more, parting to reveal a hidden entrance behind. Inside a cool cavern, the Heart of Helios pulsed on a pedestal, a brilliant ruby radiating an intoxicating warmth. Elara approached it cautiously. As she lifted the gem, the cavern began to rumble.\n",
        "\n",
        "The djinn's voice boomed, \"Do not succumb! Remember!\"\n",
        "\n",
        "Elara gritted her teeth, resisting the visions that flooded her mind. Images of a perfect life, righting past wrongs, all with the Heart's power. But the cost was too high.\n",
        "\n",
        "With a final push, she replaced the Heart. The cavern shuddered, then settled. Outside, sand filled the entrance, sealing the oasis shut.\n",
        "\n",
        "Elara emerged from the dunes, the setting sun painting the sky in fiery hues. Though she had left the Heart behind, a different kind of treasure weighed in her hand – the tattered map, now a symbol of her victory.\n",
        "\n",
        "Back in the bustling marketplace, she sold the map for a modest sum. The whispers of wealth no longer held sway. Elara had discovered a far greater treasure: the strength of her own spirit. The setting sun cast an orange glow on her face, a reflection of the newfound peace that shone within. As the wind whispered tales across the sands, Elara knew her journey had only just begun. The desert may guard its secrets, but it also held lessons for those brave enough to listen. \"\"\""
      ]
    },
    {
      "cell_type": "code",
      "source": [
        "print(len(story.split()))"
      ],
      "metadata": {
        "colab": {
          "base_uri": "https://localhost:8080/"
        },
        "id": "VA5yuzTwq4qU",
        "outputId": "2bd922a3-2f64-44cd-caca-ff1e56bdb905"
      },
      "execution_count": 2,
      "outputs": [
        {
          "output_type": "stream",
          "name": "stdout",
          "text": [
            "576\n"
          ]
        }
      ]
    },
    {
      "cell_type": "code",
      "source": [
        "import nltk\n",
        "from nltk import FreqDist\n",
        "\n",
        "nltk.download('punkt')\n",
        "nltk.download('averaged_perceptron_tagger')\n",
        "nltk.download('maxent_ne_chunker')\n",
        "nltk.download('words')"
      ],
      "metadata": {
        "colab": {
          "base_uri": "https://localhost:8080/"
        },
        "id": "6ee85_8VwtYP",
        "outputId": "05d60bcd-c3c7-4773-cbcc-68446fad3abf"
      },
      "execution_count": 3,
      "outputs": [
        {
          "output_type": "stream",
          "name": "stderr",
          "text": [
            "[nltk_data] Downloading package punkt to /root/nltk_data...\n",
            "[nltk_data]   Unzipping tokenizers/punkt.zip.\n",
            "[nltk_data] Downloading package averaged_perceptron_tagger to\n",
            "[nltk_data]     /root/nltk_data...\n",
            "[nltk_data]   Unzipping taggers/averaged_perceptron_tagger.zip.\n",
            "[nltk_data] Downloading package maxent_ne_chunker to\n",
            "[nltk_data]     /root/nltk_data...\n",
            "[nltk_data]   Unzipping chunkers/maxent_ne_chunker.zip.\n",
            "[nltk_data] Downloading package words to /root/nltk_data...\n",
            "[nltk_data]   Unzipping corpora/words.zip.\n"
          ]
        },
        {
          "output_type": "execute_result",
          "data": {
            "text/plain": [
              "True"
            ]
          },
          "metadata": {},
          "execution_count": 3
        }
      ]
    },
    {
      "cell_type": "code",
      "source": [
        "sentences = nltk.sent_tokenize(story)\n",
        "characters = []\n",
        "for sent in sentences:\n",
        "    for chunk in nltk.ne_chunk(nltk.pos_tag(nltk.word_tokenize(sent))):\n",
        "        if hasattr(chunk, 'label') and chunk.label() == 'PERSON':\n",
        "            characters.extend(c[0] for c in chunk)\n",
        "print(f\"Characters: {characters}\")"
      ],
      "metadata": {
        "colab": {
          "base_uri": "https://localhost:8080/"
        },
        "id": "pmXNvpOLwtVH",
        "outputId": "0250bebb-07c6-4621-f544-fb74b7a3f215"
      },
      "execution_count": 4,
      "outputs": [
        {
          "output_type": "stream",
          "name": "stdout",
          "text": [
            "Characters: ['Elara', 'Elara', 'Elara', 'Elara', 'Elara', 'Elara', 'Helios', 'Elara', 'Elara', 'Elara', 'Elara', 'Elara']\n"
          ]
        }
      ]
    },
    {
      "cell_type": "code",
      "source": [
        "character_freq = FreqDist(characters)\n",
        "print(f\"Character Frequency: {character_freq}\")\n",
        "# Find the main character\n",
        "main_character = character_freq.most_common(1)[0][0]"
      ],
      "metadata": {
        "colab": {
          "base_uri": "https://localhost:8080/"
        },
        "id": "TQ2ZODHywtOg",
        "outputId": "b47ca0bb-0f61-471c-9893-c40af483ef81"
      },
      "execution_count": 5,
      "outputs": [
        {
          "output_type": "stream",
          "name": "stdout",
          "text": [
            "Character Frequency: <FreqDist with 2 samples and 12 outcomes>\n"
          ]
        }
      ]
    },
    {
      "cell_type": "code",
      "source": [
        "print(f\"Main character: {main_character}\")"
      ],
      "metadata": {
        "colab": {
          "base_uri": "https://localhost:8080/"
        },
        "id": "MxPCeCFHw2zZ",
        "outputId": "db1db157-e940-419b-db8b-505400796b0d"
      },
      "execution_count": 6,
      "outputs": [
        {
          "output_type": "stream",
          "name": "stdout",
          "text": [
            "Main character: Elara\n"
          ]
        }
      ]
    }
  ]
}